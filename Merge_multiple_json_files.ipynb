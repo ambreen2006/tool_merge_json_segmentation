{
 "cells": [
  {
   "cell_type": "markdown",
   "metadata": {},
   "source": [
    "## Imports"
   ]
  },
  {
   "cell_type": "code",
   "execution_count": 19,
   "metadata": {},
   "outputs": [],
   "source": [
    "import json\n",
    "import glob\n",
    "import time\n",
    "import os"
   ]
  },
  {
   "cell_type": "markdown",
   "metadata": {},
   "source": [
    "## Identify input json files"
   ]
  },
  {
   "cell_type": "markdown",
   "metadata": {},
   "source": [
    "`data_dir` is the path to the directory containing all the json files we need to combine."
   ]
  },
  {
   "cell_type": "code",
   "execution_count": 20,
   "metadata": {},
   "outputs": [],
   "source": [
    "data_dir = 'Data/'\n",
    "output_dir = 'Annotations/'"
   ]
  },
  {
   "cell_type": "markdown",
   "metadata": {},
   "source": [
    "Fetch all json file names from `data_dir`"
   ]
  },
  {
   "cell_type": "code",
   "execution_count": 21,
   "metadata": {},
   "outputs": [],
   "source": [
    "jsonFiles = []\n",
    "filetypes = data_dir + '*.json'\n",
    "for file in glob.glob(filetypes):\n",
    "    jsonFiles.append(file)"
   ]
  },
  {
   "cell_type": "code",
   "execution_count": 22,
   "metadata": {},
   "outputs": [
    {
     "data": {
      "text/plain": [
       "['Data/labels_my-project-name_20200527053122_200_225.json',\n",
       " 'Data/labels_my-project-name_20200528114655_276_299.json',\n",
       " 'Data/labels_my-project-name_20200527082847_226_250.json',\n",
       " 'Data/nwpu_lakes_20samplesA.json',\n",
       " 'Data/labels_my-project-name_20200526104318_526_550.json',\n",
       " 'Data/labels_my-project-name_20200528110850_151_175.json',\n",
       " 'Data/471_to_480.json',\n",
       " 'Data/421_to_430.json',\n",
       " 'Data/labels_my-project-name_20200526111515_300_325.json',\n",
       " 'Data/441_to_450.json',\n",
       " 'Data/nwpu_lakes_20samplesB.json',\n",
       " 'Data/labels_my-project-name_20200527023537_376_399.json',\n",
       " 'Data/400_to_420.json',\n",
       " 'Data/labels_my-project-name_20200527122559_326_350.json',\n",
       " 'Data/labels_nwpu_labels_20200526111752_615_625.json',\n",
       " 'Data/labels_my-project-name_20200529094057_600_614.json',\n",
       " 'Data/491_to_500.json',\n",
       " 'Data/labels_nwpu_20200525101208.json',\n",
       " 'Data/431_to_440.json',\n",
       " 'Data/merged_2020_05_27_001-100.json',\n",
       " 'Data/merged_2020_05_29_101-150.json',\n",
       " 'Data/labels_my-project-name_20200527102547_251_275.json',\n",
       " 'Data/labels_my-project-name_20200526120435_500_525.json',\n",
       " 'Data/451_to_460.json',\n",
       " 'Data/labels_my-project-name_20200526121259_551_575.json',\n",
       " 'Data/labels_nwpu_20200525101208_576_599.json',\n",
       " 'Data/labels_my-project-name_20200524053945_625_634.json',\n",
       " 'Data/481_to_490.json',\n",
       " 'Data/labels_my-project-name_20200529121604_176_199.json',\n",
       " 'Data/nwpu_lakes_30samples.json',\n",
       " 'Data/labels_nwpu-water_20200524023845_650_674.json',\n",
       " 'Data/461_to_470.json',\n",
       " 'Data/labels_my-project-name_20200524061414_625_649.json',\n",
       " 'Data/labels_nwpu-water_20200524011433.json']"
      ]
     },
     "execution_count": 22,
     "metadata": {},
     "output_type": "execute_result"
    }
   ],
   "source": [
    "jsonFiles"
   ]
  },
  {
   "cell_type": "code",
   "execution_count": 23,
   "metadata": {},
   "outputs": [
    {
     "data": {
      "text/plain": [
       "'Data/labels_my-project-name_20200527053122_200_225.json, number of keys = 26'"
      ]
     },
     "metadata": {},
     "output_type": "display_data"
    },
    {
     "data": {
      "text/plain": [
       "'Data/labels_my-project-name_20200528114655_276_299.json, number of keys = 24'"
      ]
     },
     "metadata": {},
     "output_type": "display_data"
    },
    {
     "data": {
      "text/plain": [
       "'Data/labels_my-project-name_20200527082847_226_250.json, number of keys = 25'"
      ]
     },
     "metadata": {},
     "output_type": "display_data"
    },
    {
     "data": {
      "text/plain": [
       "'Data/nwpu_lakes_20samplesA.json, number of keys = 20'"
      ]
     },
     "metadata": {},
     "output_type": "display_data"
    },
    {
     "data": {
      "text/plain": [
       "'Data/labels_my-project-name_20200526104318_526_550.json, number of keys = 25'"
      ]
     },
     "metadata": {},
     "output_type": "display_data"
    },
    {
     "data": {
      "text/plain": [
       "'Data/labels_my-project-name_20200528110850_151_175.json, number of keys = 25'"
      ]
     },
     "metadata": {},
     "output_type": "display_data"
    },
    {
     "data": {
      "text/plain": [
       "'Data/471_to_480.json, number of keys = 10'"
      ]
     },
     "metadata": {},
     "output_type": "display_data"
    },
    {
     "data": {
      "text/plain": [
       "'Data/421_to_430.json, number of keys = 10'"
      ]
     },
     "metadata": {},
     "output_type": "display_data"
    },
    {
     "data": {
      "text/plain": [
       "'Data/labels_my-project-name_20200526111515_300_325.json, number of keys = 26'"
      ]
     },
     "metadata": {},
     "output_type": "display_data"
    },
    {
     "data": {
      "text/plain": [
       "'Data/441_to_450.json, number of keys = 10'"
      ]
     },
     "metadata": {},
     "output_type": "display_data"
    },
    {
     "data": {
      "text/plain": [
       "'Data/nwpu_lakes_20samplesB.json, number of keys = 20'"
      ]
     },
     "metadata": {},
     "output_type": "display_data"
    },
    {
     "data": {
      "text/plain": [
       "'Data/labels_my-project-name_20200527023537_376_399.json, number of keys = 24'"
      ]
     },
     "metadata": {},
     "output_type": "display_data"
    },
    {
     "data": {
      "text/plain": [
       "'Data/400_to_420.json, number of keys = 21'"
      ]
     },
     "metadata": {},
     "output_type": "display_data"
    },
    {
     "data": {
      "text/plain": [
       "'Data/labels_my-project-name_20200527122559_326_350.json, number of keys = 25'"
      ]
     },
     "metadata": {},
     "output_type": "display_data"
    },
    {
     "data": {
      "text/plain": [
       "'Data/labels_nwpu_labels_20200526111752_615_625.json, number of keys = 11'"
      ]
     },
     "metadata": {},
     "output_type": "display_data"
    },
    {
     "data": {
      "text/plain": [
       "'Data/labels_my-project-name_20200529094057_600_614.json, number of keys = 15'"
      ]
     },
     "metadata": {},
     "output_type": "display_data"
    },
    {
     "data": {
      "text/plain": [
       "'Data/491_to_500.json, number of keys = 10'"
      ]
     },
     "metadata": {},
     "output_type": "display_data"
    },
    {
     "data": {
      "text/plain": [
       "'Data/labels_nwpu_20200525101208.json, number of keys = 24'"
      ]
     },
     "metadata": {},
     "output_type": "display_data"
    },
    {
     "data": {
      "text/plain": [
       "'Data/431_to_440.json, number of keys = 10'"
      ]
     },
     "metadata": {},
     "output_type": "display_data"
    },
    {
     "data": {
      "text/plain": [
       "'Data/merged_2020_05_27_001-100.json, number of keys = 100'"
      ]
     },
     "metadata": {},
     "output_type": "display_data"
    },
    {
     "data": {
      "text/plain": [
       "'Data/merged_2020_05_29_101-150.json, number of keys = 50'"
      ]
     },
     "metadata": {},
     "output_type": "display_data"
    },
    {
     "data": {
      "text/plain": [
       "'Data/labels_my-project-name_20200527102547_251_275.json, number of keys = 25'"
      ]
     },
     "metadata": {},
     "output_type": "display_data"
    },
    {
     "data": {
      "text/plain": [
       "'Data/labels_my-project-name_20200526120435_500_525.json, number of keys = 26'"
      ]
     },
     "metadata": {},
     "output_type": "display_data"
    },
    {
     "data": {
      "text/plain": [
       "'Data/451_to_460.json, number of keys = 10'"
      ]
     },
     "metadata": {},
     "output_type": "display_data"
    },
    {
     "data": {
      "text/plain": [
       "'Data/labels_my-project-name_20200526121259_551_575.json, number of keys = 25'"
      ]
     },
     "metadata": {},
     "output_type": "display_data"
    },
    {
     "data": {
      "text/plain": [
       "'Data/labels_nwpu_20200525101208_576_599.json, number of keys = 24'"
      ]
     },
     "metadata": {},
     "output_type": "display_data"
    },
    {
     "data": {
      "text/plain": [
       "'Data/labels_my-project-name_20200524053945_625_634.json, number of keys = 0'"
      ]
     },
     "metadata": {},
     "output_type": "display_data"
    },
    {
     "data": {
      "text/plain": [
       "'Data/481_to_490.json, number of keys = 10'"
      ]
     },
     "metadata": {},
     "output_type": "display_data"
    },
    {
     "data": {
      "text/plain": [
       "'Data/labels_my-project-name_20200529121604_176_199.json, number of keys = 24'"
      ]
     },
     "metadata": {},
     "output_type": "display_data"
    },
    {
     "data": {
      "text/plain": [
       "'Data/nwpu_lakes_30samples.json, number of keys = 30'"
      ]
     },
     "metadata": {},
     "output_type": "display_data"
    },
    {
     "data": {
      "text/plain": [
       "'Data/labels_nwpu-water_20200524023845_650_674.json, number of keys = 24'"
      ]
     },
     "metadata": {},
     "output_type": "display_data"
    },
    {
     "data": {
      "text/plain": [
       "'Data/461_to_470.json, number of keys = 10'"
      ]
     },
     "metadata": {},
     "output_type": "display_data"
    },
    {
     "data": {
      "text/plain": [
       "'Data/labels_my-project-name_20200524061414_625_649.json, number of keys = 0'"
      ]
     },
     "metadata": {},
     "output_type": "display_data"
    },
    {
     "data": {
      "text/plain": [
       "'Data/labels_nwpu-water_20200524011433.json, number of keys = 26'"
      ]
     },
     "metadata": {},
     "output_type": "display_data"
    },
    {
     "data": {
      "text/plain": [
       "'--------------------------------------------'"
      ]
     },
     "metadata": {},
     "output_type": "display_data"
    },
    {
     "data": {
      "text/plain": [
       "'MERGED dictionary, number of keys = 652'"
      ]
     },
     "metadata": {},
     "output_type": "display_data"
    }
   ],
   "source": [
    "data_merged = dict()\n",
    "for jf in jsonFiles:\n",
    "    with open(jf) as ojf:\n",
    "        d = json.load(ojf)\n",
    "        display(f'{jf}, number of keys = {len(d.keys())}')\n",
    "        data_merged.update(d)\n",
    "\n",
    "display('--------------------------------------------')\n",
    "display(f'MERGED dictionary, number of keys = {len(data_merged.keys())}')"
   ]
  },
  {
   "cell_type": "code",
   "execution_count": 24,
   "metadata": {},
   "outputs": [
    {
     "data": {
      "text/plain": [
       "dict_keys(['lake_200.jpg', 'lake_201.jpg', 'lake_202.jpg', 'lake_203.jpg', 'lake_204.jpg', 'lake_205.jpg', 'lake_206.jpg', 'lake_207.jpg', 'lake_208.jpg', 'lake_209.jpg', 'lake_210.jpg', 'lake_211.jpg', 'lake_212.jpg', 'lake_213.jpg', 'lake_214.jpg', 'lake_215.jpg', 'lake_216.jpg', 'lake_217.jpg', 'lake_218.jpg', 'lake_219.jpg', 'lake_220.jpg', 'lake_221.jpg', 'lake_222.jpg', 'lake_223.jpg', 'lake_224.jpg', 'lake_225.jpg', 'lake_276.jpg', 'lake_277.jpg', 'lake_278.jpg', 'lake_279.jpg', 'lake_280.jpg', 'lake_281.jpg', 'lake_282.jpg', 'lake_283.jpg', 'lake_284.jpg', 'lake_285.jpg', 'lake_286.jpg', 'lake_287.jpg', 'lake_288.jpg', 'lake_289.jpg', 'lake_290.jpg', 'lake_291.jpg', 'lake_292.jpg', 'lake_293.jpg', 'lake_294.jpg', 'lake_295.jpg', 'lake_296.jpg', 'lake_297.jpg', 'lake_298.jpg', 'lake_299.jpg', 'lake_226.jpg', 'lake_227.jpg', 'lake_228.jpg', 'lake_229.jpg', 'lake_230.jpg', 'lake_231.jpg', 'lake_232.jpg', 'lake_233.jpg', 'lake_234.jpg', 'lake_235.jpg', 'lake_236.jpg', 'lake_237.jpg', 'lake_238.jpg', 'lake_239.jpg', 'lake_240.jpg', 'lake_241.jpg', 'lake_242.jpg', 'lake_243.jpg', 'lake_244.jpg', 'lake_245.jpg', 'lake_246.jpg', 'lake_247.jpg', 'lake_248.jpg', 'lake_249.jpg', 'lake_250.jpg', 'lake_024.jpg', 'lake_025.jpg', 'lake_026.jpg', 'lake_028.jpg', 'lake_029.jpg', 'lake_030.jpg', 'lake_031.jpg', 'lake_032.jpg', 'lake_033.jpg', 'lake_034.jpg', 'lake_035.jpg', 'lake_036.jpg', 'lake_037.jpg', 'lake_038.jpg', 'lake_039.jpg', 'lake_040.jpg', 'lake_021.jpg', 'lake_022.jpg', 'lake_023.jpg', 'lake_041.jpg', 'lake_526.jpg', 'lake_527.jpg', 'lake_528.jpg', 'lake_529.jpg', 'lake_530.jpg', 'lake_531.jpg', 'lake_532.jpg', 'lake_533.jpg', 'lake_534.jpg', 'lake_535.jpg', 'lake_536.jpg', 'lake_537.jpg', 'lake_538.jpg', 'lake_539.jpg', 'lake_540.jpg', 'lake_541.jpg', 'lake_542.jpg', 'lake_543.jpg', 'lake_544.jpg', 'lake_545.jpg', 'lake_546.jpg', 'lake_547.jpg', 'lake_548.jpg', 'lake_549.jpg', 'lake_550.jpg', 'lake_151.jpg', 'lake_152.jpg', 'lake_153.jpg', 'lake_154.jpg', 'lake_155.jpg', 'lake_156.jpg', 'lake_157.jpg', 'lake_158.jpg', 'lake_159.jpg', 'lake_160.jpg', 'lake_161.jpg', 'lake_162.jpg', 'lake_163.jpg', 'lake_164.jpg', 'lake_165.jpg', 'lake_166.jpg', 'lake_167.jpg', 'lake_168.jpg', 'lake_169.jpg', 'lake_170.jpg', 'lake_171.jpg', 'lake_172.jpg', 'lake_173.jpg', 'lake_174.jpg', 'lake_175.jpg', 'lake_471.jpg', 'lake_472.jpg', 'lake_473.jpg', 'lake_474.jpg', 'lake_475.jpg', 'lake_476.jpg', 'lake_477.jpg', 'lake_478.jpg', 'lake_479.jpg', 'lake_480.jpg', 'lake_421.jpg', 'lake_422.jpg', 'lake_423.jpg', 'lake_424.jpg', 'lake_425.jpg', 'lake_426.jpg', 'lake_427.jpg', 'lake_428.jpg', 'lake_429.jpg', 'lake_430.jpg', 'lake_300.jpg', 'lake_301.jpg', 'lake_302.jpg', 'lake_303.jpg', 'lake_304.jpg', 'lake_305.jpg', 'lake_306.jpg', 'lake_307.jpg', 'lake_308.jpg', 'lake_309.jpg', 'lake_310.jpg', 'lake_311.jpg', 'lake_312.jpg', 'lake_313.jpg', 'lake_314.jpg', 'lake_315.jpg', 'lake_316.jpg', 'lake_317.jpg', 'lake_318.jpg', 'lake_319.jpg', 'lake_320.jpg', 'lake_321.jpg', 'lake_322.jpg', 'lake_323.jpg', 'lake_324.jpg', 'lake_325.jpg', 'lake_441.jpg', 'lake_442.jpg', 'lake_443.jpg', 'lake_444.jpg', 'lake_445.jpg', 'lake_446.jpg', 'lake_447.jpg', 'lake_448.jpg', 'lake_449.jpg', 'lake_450.jpg', 'lake_055.jpg', 'lake_056.jpg', 'lake_057.jpg', 'lake_058.jpg', 'lake_059.jpg', 'lake_060.jpg', 'lake_061.jpg', 'lake_042.jpg', 'lake_043.jpg', 'lake_044.jpg', 'lake_045.jpg', 'lake_046.jpg', 'lake_047.jpg', 'lake_048.jpg', 'lake_049.jpg', 'lake_050.jpg', 'lake_051.jpg', 'lake_052.jpg', 'lake_053.jpg', 'lake_054.jpg', 'lake_376.jpg', 'lake_377.jpg', 'lake_378.jpg', 'lake_379.jpg', 'lake_380.jpg', 'lake_381.jpg', 'lake_382.jpg', 'lake_383.jpg', 'lake_384.jpg', 'lake_385.jpg', 'lake_386.jpg', 'lake_387.jpg', 'lake_388.jpg', 'lake_389.jpg', 'lake_390.jpg', 'lake_391.jpg', 'lake_392.jpg', 'lake_393.jpg', 'lake_394.jpg', 'lake_395.jpg', 'lake_396.jpg', 'lake_397.jpg', 'lake_398.jpg', 'lake_399.jpg', 'lake_400.jpg', 'lake_401.jpg', 'lake_402.jpg', 'lake_403.jpg', 'lake_404.jpg', 'lake_405.jpg', 'lake_406.jpg', 'lake_407.jpg', 'lake_408.jpg', 'lake_409.jpg', 'lake_410.jpg', 'lake_411.jpg', 'lake_412.jpg', 'lake_413.jpg', 'lake_414.jpg', 'lake_415.jpg', 'lake_416.jpg', 'lake_417.jpg', 'lake_418.jpg', 'lake_419.jpg', 'lake_420.jpg', 'lake_326.jpg', 'lake_327.jpg', 'lake_328.jpg', 'lake_329.jpg', 'lake_330.jpg', 'lake_331.jpg', 'lake_332.jpg', 'lake_333.jpg', 'lake_334.jpg', 'lake_335.jpg', 'lake_336.jpg', 'lake_337.jpg', 'lake_338.jpg', 'lake_339.jpg', 'lake_340.jpg', 'lake_341.jpg', 'lake_342.jpg', 'lake_343.jpg', 'lake_344.jpg', 'lake_345.jpg', 'lake_346.jpg', 'lake_347.jpg', 'lake_348.jpg', 'lake_349.jpg', 'lake_350.jpg', 'lake_615.jpg', 'lake_616.jpg', 'lake_617.jpg', 'lake_618.jpg', 'lake_619.jpg', 'lake_620.jpg', 'lake_621.jpg', 'lake_622.jpg', 'lake_623.jpg', 'lake_624.jpg', 'lake_625.jpg', 'lake_600.jpg', 'lake_601.jpg', 'lake_602.jpg', 'lake_603.jpg', 'lake_604.jpg', 'lake_605.jpg', 'lake_606.jpg', 'lake_607.jpg', 'lake_608.jpg', 'lake_609.jpg', 'lake_610.jpg', 'lake_611.jpg', 'lake_612.jpg', 'lake_613.jpg', 'lake_614.jpg', 'lake_491.jpg', 'lake_492.jpg', 'lake_493.jpg', 'lake_494.jpg', 'lake_495.jpg', 'lake_496.jpg', 'lake_497.jpg', 'lake_498.jpg', 'lake_499.jpg', 'lake_500.jpg', 'lake_576.jpg', 'lake_577.jpg', 'lake_578.jpg', 'lake_579.jpg', 'lake_580.jpg', 'lake_581.jpg', 'lake_582.jpg', 'lake_583.jpg', 'lake_584.jpg', 'lake_585.jpg', 'lake_586.jpg', 'lake_587.jpg', 'lake_588.jpg', 'lake_589.jpg', 'lake_590.jpg', 'lake_591.jpg', 'lake_592.jpg', 'lake_593.jpg', 'lake_594.jpg', 'lake_595.jpg', 'lake_596.jpg', 'lake_597.jpg', 'lake_598.jpg', 'lake_599.jpg', 'lake_431.jpg', 'lake_432.jpg', 'lake_433.jpg', 'lake_434.jpg', 'lake_435.jpg', 'lake_436.jpg', 'lake_437.jpg', 'lake_438.jpg', 'lake_439.jpg', 'lake_440.jpg', 'lake_001.jpg', 'lake_002.jpg', 'lake_003.jpg', 'lake_004.jpg', 'lake_005.jpg', 'lake_006.jpg', 'lake_007.jpg', 'lake_008.jpg', 'lake_009.jpg', 'lake_010.jpg', 'lake_011.jpg', 'lake_012.jpg', 'lake_013.jpg', 'lake_014.jpg', 'lake_015.jpg', 'lake_016.jpg', 'lake_017.jpg', 'lake_018.jpg', 'lake_019.jpg', 'lake_020.jpg', 'lake_027.jpg', 'lake_062.jpg', 'lake_063.jpg', 'lake_064.jpg', 'lake_065.jpg', 'lake_066.jpg', 'lake_067.jpg', 'lake_068.jpg', 'lake_069.jpg', 'lake_070.jpg', 'lake_071.jpg', 'lake_072.jpg', 'lake_073.jpg', 'lake_074.jpg', 'lake_075.jpg', 'lake_076.jpg', 'lake_077.jpg', 'lake_078.jpg', 'lake_079.jpg', 'lake_080.jpg', 'lake_081.jpg', 'lake_082.jpg', 'lake_083.jpg', 'lake_084.jpg', 'lake_085.jpg', 'lake_086.jpg', 'lake_087.jpg', 'lake_088.jpg', 'lake_089.jpg', 'lake_090.jpg', 'lake_091.jpg', 'lake_092.jpg', 'lake_093.jpg', 'lake_094.jpg', 'lake_095.jpg', 'lake_096.jpg', 'lake_097.jpg', 'lake_098.jpg', 'lake_099.jpg', 'lake_100.jpg', 'lake_101.jpg', 'lake_102.jpg', 'lake_103.jpg', 'lake_104.jpg', 'lake_105.jpg', 'lake_106.jpg', 'lake_107.jpg', 'lake_108.jpg', 'lake_109.jpg', 'lake_110.jpg', 'lake_111.jpg', 'lake_112.jpg', 'lake_113.jpg', 'lake_114.jpg', 'lake_115.jpg', 'lake_116.jpg', 'lake_117.jpg', 'lake_118.jpg', 'lake_119.jpg', 'lake_120.jpg', 'lake_121.jpg', 'lake_122.jpg', 'lake_123.jpg', 'lake_124.jpg', 'lake_125.jpg', 'lake_126.jpg', 'lake_127.jpg', 'lake_128.jpg', 'lake_129.jpg', 'lake_130.jpg', 'lake_131.jpg', 'lake_132.jpg', 'lake_133.jpg', 'lake_134.jpg', 'lake_135.jpg', 'lake_136.jpg', 'lake_137.jpg', 'lake_138.jpg', 'lake_139.jpg', 'lake_140.jpg', 'lake_141.jpg', 'lake_142.jpg', 'lake_143.jpg', 'lake_144.jpg', 'lake_145.jpg', 'lake_146.jpg', 'lake_147.jpg', 'lake_148.jpg', 'lake_149.jpg', 'lake_150.jpg', 'lake_251.jpg', 'lake_252.jpg', 'lake_253.jpg', 'lake_254.jpg', 'lake_255.jpg', 'lake_256.jpg', 'lake_257.jpg', 'lake_258.jpg', 'lake_259.jpg', 'lake_260.jpg', 'lake_261.jpg', 'lake_262.jpg', 'lake_263.jpg', 'lake_264.jpg', 'lake_265.jpg', 'lake_266.jpg', 'lake_267.jpg', 'lake_268.jpg', 'lake_269.jpg', 'lake_270.jpg', 'lake_271.jpg', 'lake_272.jpg', 'lake_273.jpg', 'lake_274.jpg', 'lake_275.jpg', 'lake_501.jpg', 'lake_502.jpg', 'lake_503.jpg', 'lake_504.jpg', 'lake_505.jpg', 'lake_506.jpg', 'lake_507.jpg', 'lake_508.jpg', 'lake_509.jpg', 'lake_510.jpg', 'lake_511.jpg', 'lake_512.jpg', 'lake_513.jpg', 'lake_514.jpg', 'lake_515.jpg', 'lake_516.jpg', 'lake_517.jpg', 'lake_518.jpg', 'lake_519.jpg', 'lake_520.jpg', 'lake_521.jpg', 'lake_522.jpg', 'lake_523.jpg', 'lake_524.jpg', 'lake_525.jpg', 'lake_451.jpg', 'lake_452.jpg', 'lake_453.jpg', 'lake_454.jpg', 'lake_455.jpg', 'lake_456.jpg', 'lake_457.jpg', 'lake_458.jpg', 'lake_459.jpg', 'lake_460.jpg', 'lake_551.jpg', 'lake_552.jpg', 'lake_553.jpg', 'lake_554.jpg', 'lake_555.jpg', 'lake_556.jpg', 'lake_557.jpg', 'lake_558.jpg', 'lake_559.jpg', 'lake_560.jpg', 'lake_561.jpg', 'lake_562.jpg', 'lake_563.jpg', 'lake_564.jpg', 'lake_565.jpg', 'lake_566.jpg', 'lake_567.jpg', 'lake_568.jpg', 'lake_569.jpg', 'lake_570.jpg', 'lake_571.jpg', 'lake_572.jpg', 'lake_573.jpg', 'lake_574.jpg', 'lake_575.jpg', 'lake_481.jpg', 'lake_482.jpg', 'lake_483.jpg', 'lake_484.jpg', 'lake_485.jpg', 'lake_486.jpg', 'lake_487.jpg', 'lake_488.jpg', 'lake_489.jpg', 'lake_490.jpg', 'lake_176.jpg', 'lake_177.jpg', 'lake_178.jpg', 'lake_179.jpg', 'lake_180.jpg', 'lake_181.jpg', 'lake_182.jpg', 'lake_183.jpg', 'lake_184.jpg', 'lake_185.jpg', 'lake_186.jpg', 'lake_187.jpg', 'lake_188.jpg', 'lake_189.jpg', 'lake_190.jpg', 'lake_191.jpg', 'lake_192.jpg', 'lake_193.jpg', 'lake_194.jpg', 'lake_195.jpg', 'lake_196.jpg', 'lake_197.jpg', 'lake_198.jpg', 'lake_199.jpg', 'lake_648.jpg', 'lake_660.jpg', 'lake_678.jpg', 'lake_681.jpg', 'lake_682.jpg', 'lake_690.jpg', 'lake_693.jpg', 'lake_694.jpg', 'lake_695.jpg', 'lake_642.jpg', 'lake_650.jpg', 'lake_651.jpg', 'lake_652.jpg', 'lake_653.jpg', 'lake_654.jpg', 'lake_655.jpg', 'lake_656.jpg', 'lake_657.jpg', 'lake_658.jpg', 'lake_661.jpg', 'lake_662.jpg', 'lake_663.jpg', 'lake_664.jpg', 'lake_665.jpg', 'lake_666.jpg', 'lake_667.jpg', 'lake_668.jpg', 'lake_669.jpg', 'lake_670.jpg', 'lake_671.jpg', 'lake_672.jpg', 'lake_673.jpg', 'lake_674.jpg', 'lake_461.jpg', 'lake_462.jpg', 'lake_463.jpg', 'lake_464.jpg', 'lake_465.jpg', 'lake_466.jpg', 'lake_467.jpg', 'lake_468.jpg', 'lake_469.jpg', 'lake_470.jpg', 'lake_691.jpg', 'lake_692.jpg', 'lake_696.jpg', 'lake_697.jpg', 'lake_698.jpg', 'lake_699.jpg', 'lake_700.jpg', 'lake_675.jpg', 'lake_676.jpg', 'lake_677.jpg', 'lake_679.jpg', 'lake_680.jpg', 'lake_683.jpg', 'lake_684.jpg', 'lake_685.jpg', 'lake_686.jpg', 'lake_687.jpg', 'lake_688.jpg', 'lake_689.jpg'])"
      ]
     },
     "execution_count": 24,
     "metadata": {},
     "output_type": "execute_result"
    }
   ],
   "source": [
    "data_merged.keys()"
   ]
  },
  {
   "cell_type": "markdown",
   "metadata": {},
   "source": [
    "## Create label for merged file"
   ]
  },
  {
   "cell_type": "code",
   "execution_count": 25,
   "metadata": {},
   "outputs": [],
   "source": [
    "def construct_timestamped_label(st, prefix = '', postfix = '', sep = '_'):\n",
    "    \"\"\" Concatenate prefix, struct_time , and postfix string using the provided seperator.\n",
    "    \"\"\"\n",
    "    candidate_str = []\n",
    "    if prefix:\n",
    "        candidate_str.append(prefix)\n",
    "        \n",
    "    time_str = time.strftime(f'%Y{sep}%m{sep}%d', st)\n",
    "    candidate_str.append(time_str)\n",
    "    \n",
    "    if postfix:\n",
    "        candidate_str.append(postfix)\n",
    "    \n",
    "    full_label = sep.join(candidate_str)\n",
    "    \n",
    "    return full_label"
   ]
  },
  {
   "cell_type": "markdown",
   "metadata": {},
   "source": [
    "## Merge the final dictionary"
   ]
  },
  {
   "cell_type": "code",
   "execution_count": 26,
   "metadata": {},
   "outputs": [],
   "source": [
    "if not os.path.exists(output_dir):\n",
    "    os.makedirs(output_dir)"
   ]
  },
  {
   "cell_type": "code",
   "execution_count": 27,
   "metadata": {},
   "outputs": [],
   "source": [
    "filename_data = output_dir + construct_timestamped_label(time.gmtime(), prefix = 'merged') + '.json'\n",
    "filename_used_files = output_dir + construct_timestamped_label(time.gmtime(), prefix = 'original_filenames',\n",
    "                                                             postfix = 'merged') + '.txt'\n",
    "\n",
    "with open(filename_data, 'w') as wfile:\n",
    "    json.dump(data_merged, wfile)\n",
    "\n",
    "with open(filename_used_files, 'w') as wfile:\n",
    "    for file in jsonFiles:\n",
    "        wfile.write(f'{file}\\n')"
   ]
  }
 ],
 "metadata": {
  "kernelspec": {
   "display_name": "Python 3",
   "language": "python",
   "name": "python3"
  },
  "language_info": {
   "codemirror_mode": {
    "name": "ipython",
    "version": 3
   },
   "file_extension": ".py",
   "mimetype": "text/x-python",
   "name": "python",
   "nbconvert_exporter": "python",
   "pygments_lexer": "ipython3",
   "version": "3.7.7"
  }
 },
 "nbformat": 4,
 "nbformat_minor": 4
}
