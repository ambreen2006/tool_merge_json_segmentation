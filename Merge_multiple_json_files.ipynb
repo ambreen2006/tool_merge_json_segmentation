{
 "cells": [
  {
   "cell_type": "markdown",
   "metadata": {},
   "source": [
    "## Imports"
   ]
  },
  {
   "cell_type": "code",
   "execution_count": 1,
   "metadata": {},
   "outputs": [],
   "source": [
    "import json\n",
    "import glob\n",
    "import time"
   ]
  },
  {
   "cell_type": "markdown",
   "metadata": {},
   "source": [
    "## Identify input json files"
   ]
  },
  {
   "cell_type": "markdown",
   "metadata": {},
   "source": [
    "`data_dir` is the path to the directory containing all the json files we need to combine."
   ]
  },
  {
   "cell_type": "code",
   "execution_count": 2,
   "metadata": {},
   "outputs": [],
   "source": [
    "data_dir = 'Data/'"
   ]
  },
  {
   "cell_type": "markdown",
   "metadata": {},
   "source": [
    "Fetch all json file names from `data_dir`"
   ]
  },
  {
   "cell_type": "code",
   "execution_count": 3,
   "metadata": {},
   "outputs": [],
   "source": [
    "jsonFiles = []\n",
    "filetypes = data_dir + '*.json'\n",
    "for file in glob.glob(filetypes):\n",
    "    jsonFiles.append(file)"
   ]
  },
  {
   "cell_type": "code",
   "execution_count": 4,
   "metadata": {},
   "outputs": [
    {
     "data": {
      "text/plain": [
       "['Data/421_to_430.json', 'Data/400_to_420.json']"
      ]
     },
     "execution_count": 4,
     "metadata": {},
     "output_type": "execute_result"
    }
   ],
   "source": [
    "jsonFiles"
   ]
  },
  {
   "cell_type": "code",
   "execution_count": 5,
   "metadata": {},
   "outputs": [
    {
     "data": {
      "text/plain": [
       "'Data/421_to_430.json, number of keys = 10'"
      ]
     },
     "metadata": {},
     "output_type": "display_data"
    },
    {
     "data": {
      "text/plain": [
       "'Data/400_to_420.json, number of keys = 21'"
      ]
     },
     "metadata": {},
     "output_type": "display_data"
    },
    {
     "data": {
      "text/plain": [
       "'--------------------------------------------'"
      ]
     },
     "metadata": {},
     "output_type": "display_data"
    },
    {
     "data": {
      "text/plain": [
       "'MERGED dictionary, number of keys = 31'"
      ]
     },
     "metadata": {},
     "output_type": "display_data"
    }
   ],
   "source": [
    "data_merged = dict()\n",
    "for jf in jsonFiles:\n",
    "    with open(jf) as ojf:\n",
    "        d = json.load(ojf)\n",
    "        display(f'{jf}, number of keys = {len(d.keys())}')\n",
    "        data_merged.update(d)\n",
    "\n",
    "display('--------------------------------------------')\n",
    "display(f'MERGED dictionary, number of keys = {len(data_merged.keys())}')"
   ]
  },
  {
   "cell_type": "code",
   "execution_count": 6,
   "metadata": {},
   "outputs": [
    {
     "data": {
      "text/plain": [
       "dict_keys(['lake_421.jpg', 'lake_422.jpg', 'lake_423.jpg', 'lake_424.jpg', 'lake_425.jpg', 'lake_426.jpg', 'lake_427.jpg', 'lake_428.jpg', 'lake_429.jpg', 'lake_430.jpg', 'lake_400.jpg', 'lake_401.jpg', 'lake_402.jpg', 'lake_403.jpg', 'lake_404.jpg', 'lake_405.jpg', 'lake_406.jpg', 'lake_407.jpg', 'lake_408.jpg', 'lake_409.jpg', 'lake_410.jpg', 'lake_411.jpg', 'lake_412.jpg', 'lake_413.jpg', 'lake_414.jpg', 'lake_415.jpg', 'lake_416.jpg', 'lake_417.jpg', 'lake_418.jpg', 'lake_419.jpg', 'lake_420.jpg'])"
      ]
     },
     "execution_count": 6,
     "metadata": {},
     "output_type": "execute_result"
    }
   ],
   "source": [
    "data_merged.keys()"
   ]
  },
  {
   "cell_type": "markdown",
   "metadata": {},
   "source": [
    "## Create label for merged file"
   ]
  },
  {
   "cell_type": "code",
   "execution_count": 7,
   "metadata": {},
   "outputs": [],
   "source": [
    "def construct_timestamped_label(st, prefix = '', postfix = '', sep = '_'):\n",
    "    \"\"\" Concatenate prefix, struct_time , and postfix string using the provided seperator.\n",
    "    \"\"\"\n",
    "    candidate_str = []\n",
    "    if prefix:\n",
    "        candidate_str.append(prefix)\n",
    "        \n",
    "    time_str = time.strftime(f'%Y{sep}%m{sep}%d', st)\n",
    "    candidate_str.append(time_str)\n",
    "    \n",
    "    if postfix:\n",
    "        candidate_str.append(postfix)\n",
    "    \n",
    "    full_label = sep.join(candidate_str)\n",
    "    \n",
    "    return full_label"
   ]
  },
  {
   "cell_type": "markdown",
   "metadata": {},
   "source": [
    "## Merge the final dictionary"
   ]
  },
  {
   "cell_type": "code",
   "execution_count": 8,
   "metadata": {},
   "outputs": [],
   "source": [
    "filename_data = construct_timestamped_label(time.gmtime(), prefix = 'merged') + '.json'\n",
    "filename_used_files = construct_timestamped_label(time.gmtime(), prefix = 'original_filenames',\n",
    "                                                             postfix = 'merged') + '.txt'\n",
    "\n",
    "with open(filename_data, 'w') as wfile:\n",
    "    json.dump(data_merged, wfile)\n",
    "\n",
    "with open(filename_used_files, 'w') as wfile:\n",
    "    for file in jsonFiles:\n",
    "        wfile.write(f'{file}\\n')"
   ]
  }
 ],
 "metadata": {
  "kernelspec": {
   "display_name": "Python 3",
   "language": "python",
   "name": "python3"
  },
  "language_info": {
   "codemirror_mode": {
    "name": "ipython",
    "version": 3
   },
   "file_extension": ".py",
   "mimetype": "text/x-python",
   "name": "python",
   "nbconvert_exporter": "python",
   "pygments_lexer": "ipython3",
   "version": "3.7.7"
  }
 },
 "nbformat": 4,
 "nbformat_minor": 4
}
